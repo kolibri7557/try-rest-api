{
 "cells": [
  {
   "cell_type": "markdown",
   "id": "af840017",
   "metadata": {},
   "source": [
    "### OpenCV (Библиотека компьютерного зрения с открытым исходным кодом).\n",
    "- это мощная и широко используемая библиотека для обработки изображений и задач компьютерного зрения. Используя Python, популярный и простой в освоении язык программирования, разработчики могут создавать эффективные приложения для таких задач, как обработка изображений, обнаружение объектов и распознавание лиц. В этой статье мы рассмотрим библиотеку Python OpenCV, продемонстрируем, как использовать её для решения распространённых проблем, и приведём практические примеры кода. Давайте начинать!\n",
    "\n",
    "### OpenCV\n",
    "- это библиотека с открытым исходным кодом, которая предоставляет разработчикам инструменты и алгоритмы для задач компьютерного зрения и машинного обучения. Она поддерживает несколько языков программирования, включая C++, Java и Python. Привязки Python для OpenCV, известные как opencv-python, позволяют разработчикам Python легко использовать возможности OpenCV в своих приложениях.\n"
   ]
  },
  {
   "cell_type": "markdown",
   "id": "8fea4e94",
   "metadata": {},
   "source": [
    "### 1. Установка OpenCV с помощью Python\n",
    "Вы можете установить библиотеку OpenCV с привязками Python с помощью pip, менеджера пакетов Python:\n"
   ]
  },
  {
   "cell_type": "code",
   "execution_count": 1,
   "id": "c9a7ba1d",
   "metadata": {},
   "outputs": [],
   "source": [
    "import cv2\n",
    "import numpy as np\n",
    "#Если вам не нужны функции графического интерфейса\n",
    "import cv2"
   ]
  },
  {
   "cell_type": "markdown",
   "id": "4d9480dc",
   "metadata": {},
   "source": [
    "## 2. Основные операции OpenCV\n",
    "Давайте рассмотрим некоторые основные операции OpenCV.\n",
    "### 2.1. Чтение и отображение изображений\n",
    "Чтобы прочитать и отобразить изображение с помощью OpenCV, вы можете использовать следующий код:\n"
   ]
  },
  {
   "cell_type": "code",
   "execution_count": 1,
   "id": "eef46443",
   "metadata": {},
   "outputs": [
    {
     "ename": "NameError",
     "evalue": "name 'cv2' is not defined",
     "output_type": "error",
     "traceback": [
      "\u001b[1;31m---------------------------------------------------------------------------\u001b[0m",
      "\u001b[1;31mNameError\u001b[0m                                 Traceback (most recent call last)",
      "\u001b[1;32mc:\\Users\\Alexander\\Desktop\\Development Go\\ToDo-rest-api\\OpenCV (2).ipynb Cell 5\u001b[0m line \u001b[0;36m2\n\u001b[0;32m      <a href='vscode-notebook-cell:/c%3A/Users/Alexander/Desktop/Development%20Go/ToDo-rest-api/OpenCV%20%282%29.ipynb#W4sZmlsZQ%3D%3D?line=0'>1</a>\u001b[0m \u001b[39m# Чтение изображения из файла\u001b[39;00m\n\u001b[1;32m----> <a href='vscode-notebook-cell:/c%3A/Users/Alexander/Desktop/Development%20Go/ToDo-rest-api/OpenCV%20%282%29.ipynb#W4sZmlsZQ%3D%3D?line=1'>2</a>\u001b[0m image \u001b[39m=\u001b[39m cv2\u001b[39m.\u001b[39mimread(\u001b[39m'\u001b[39m\u001b[39mfriends.jpg\u001b[39m\u001b[39m'\u001b[39m)\n\u001b[0;32m      <a href='vscode-notebook-cell:/c%3A/Users/Alexander/Desktop/Development%20Go/ToDo-rest-api/OpenCV%20%282%29.ipynb#W4sZmlsZQ%3D%3D?line=3'>4</a>\u001b[0m \u001b[39m# Отображение изображения в окне\u001b[39;00m\n\u001b[0;32m      <a href='vscode-notebook-cell:/c%3A/Users/Alexander/Desktop/Development%20Go/ToDo-rest-api/OpenCV%20%282%29.ipynb#W4sZmlsZQ%3D%3D?line=4'>5</a>\u001b[0m cv2\u001b[39m.\u001b[39mimshow(\u001b[39m\"\u001b[39m\u001b[39mfriends\u001b[39m\u001b[39m\"\u001b[39m,image)\n",
      "\u001b[1;31mNameError\u001b[0m: name 'cv2' is not defined"
     ]
    }
   ],
   "source": [
    "# Чтение изображения из файла\n",
    "image = cv2.imread('friends.png')\n",
    "\n",
    "# Отображение изображения в окне\n",
    "cv2.imshow(\"friends\",image)\n",
    "\n",
    "# Дождитесь нажатия клавиши и закройте окно\n",
    "cv2.waitKey(0)\n",
    "cv2.destroyAllWindows()\n"
   ]
  },
  {
   "cell_type": "markdown",
   "id": "b5309eee",
   "metadata": {},
   "source": [
    "### 2.2. Основные манипуляции с изображениями\n",
    "Вот как изменить размер, повернуть и перевернуть изображение с помощью OpenCV:\n"
   ]
  },
  {
   "cell_type": "code",
   "execution_count": null,
   "id": "f0efc83d",
   "metadata": {},
   "outputs": [],
   "source": [
    "image = cv2.imread('image.jpg') \n",
    "\n",
    "# Изменить размер изображения\n",
    "resized_image = cv2.resize(image, (100, 100)) \n",
    "# Измените размер изображения до 100x100 пикселей.\n",
    "\n",
    "# Поворот изображения\n",
    "(rows, cols) = image.shape[:2] \n",
    "# Получить количество строк и столбцов в исходном изображении\n",
    "center = (cols // 2, rows // 2)\n",
    "# Вычислить центральную точку изображения\n",
    "rotation_matrix = cv2.getRotationMatrix2D(center, 45, 1) # Create a rotation matrix for a 45-degree rotation around the center point\n",
    "rotated_image = cv2.warpAffine(image, rotation_matrix, (cols, rows))  # Apply the rotation to the original image\n",
    "\n",
    "# Перевернуть изображение\n",
    "flipped_image = cv2.flip(image, 1) # 0 for vertical flip, 1 for horizontal flip, -1 for both\n",
    "\n",
    "# Отображение изображений\n",
    "cv2.imshow('Original', image)\n",
    "cv2.imshow('Resized', resized_image)\n",
    "cv2.imshow('Rotated', rotated_image)\n",
    "cv2.imshow('Flipped', flipped_image)\n",
    "cv2.waitKey(0) # Подождите нажатия клавиши\n",
    "cv2.destroyAllWindows() # Закройте все окна\n"
   ]
  },
  {
   "cell_type": "markdown",
   "id": "44dc845f",
   "metadata": {},
   "source": [
    "### 2.3. Преобразование цветовых пространств\n",
    "OpenCV позволяет конвертировать изображения между различными цветовыми пространствами, такими как RGB, HSV и оттенки серого:\n"
   ]
  },
  {
   "cell_type": "code",
   "execution_count": null,
   "id": "f55cc244",
   "metadata": {},
   "outputs": [],
   "source": [
    "image = cv2.imread('image.jpg')\n",
    "\n",
    "# Преобразуйте изображение в оттенки серого\n",
    "gray_image = cv2.cvtColor(image, cv2.COLOR_BGR2GRAY) \n",
    "\n",
    "# Преобразуйте изображение в HSV\n",
    "hsv_image = cv2.cvtColor(image, cv2.COLOR_BGR2HSV) # Hue, Saturation, Value\n",
    "\n",
    "cv2.imshow('Original', image)\n",
    "cv2.imshow('Grayscale', gray_image)\n",
    "cv2.imshow('HSV', hsv_image)\n",
    "cv2.waitKey(0)\n",
    "cv2.destroyAllWindows()"
   ]
  },
  {
   "cell_type": "markdown",
   "id": "41fd9080",
   "metadata": {},
   "source": [
    "## 3. Решения реальных проблем с помощью Python OpenCV\n",
    "Давайте рассмотрим пару примеров из реального мира, где Python OpenCV может быть полезен.\n",
    "### 3.1. Выделение границ\n",
    "Выделение границ - это метод, используемый для определения границ объектов на изображениях. Одним из популярных алгоритмов обнаружения границ является алгоритм Canny. Вот как применить осторожное выделение границ с помощью OpenCV:\n"
   ]
  },
  {
   "cell_type": "code",
   "execution_count": null,
   "id": "34814b68",
   "metadata": {},
   "outputs": [],
   "source": [
    "image = cv2.imread('image.jpg')\n",
    "\n",
    "gray_image = cv2.cvtColor(image, cv2.COLOR_BGR2GRAY)\n",
    "\n",
    "# Применить обнаружение краев Canny\n",
    "edges = cv2.Canny(gray_image, 100, 200) # 100 и 200 — пороговые значения \n",
    "# Детектор границ Канни использует два порога для обнаружения широкого диапазона краев.\n",
    "# Первый порог используется для обнаружения сильных краев (сильный градиент), а второй порог используется для обнаружения слабых краев (слабый градиент).\n",
    "# Любое значение градиента, превышающее верхний порог, считается краем.\n",
    "# Любое значение ниже нижнего порога считается не краем.\n",
    "\n",
    "cv2.imshow('Original', image)\n",
    "cv2.imshow('Edges', edges)\n",
    "cv2.waitKey(0)\n",
    "cv2.destroyAllWindows()"
   ]
  },
  {
   "cell_type": "markdown",
   "id": "d1ec6095",
   "metadata": {},
   "source": [
    "### 3.2. Распознавание лиц\n",
    "Распознавание лиц - это метод компьютерного зрения, используемый для определения местоположения лиц на изображениях. OpenCV предоставляет предварительно обученные модели, такие как каскады Haar, для выполнения распознавания лиц. Вот как определить лица на изображении с помощью OpenCV:\n",
    "* Загрузите изображение, содержащее лица, из Unsplash. Например, вы можете использовать это изображение или выбрать другое. Сохраните изображение как input_image.jpg в той же папке, что и ваш скрипт на Python.\n",
    "* Загрузите предварительно обученную каскадную модель Haar для распознавания лиц. Вы можете скачать файл haarcascade_frontalface_default.xml из репозитория OpenCV на GitHub. Сохраните его в той же папке, что и ваш скрипт на Python.\n",
    "* Создайте скрипт на Python с именем face_detection.py со следующим кодом:\n"
   ]
  },
  {
   "cell_type": "code",
   "execution_count": null,
   "id": "2d1b070f",
   "metadata": {},
   "outputs": [],
   "source": [
    "# Загрузите предварительно обученную каскадную модель Хаара для распознавания лиц.\n",
    "face_cascade = cv2.CascadeClassifier('haarcascade_frontalface_default.xml')\n",
    "\n",
    "image = cv2.imread('input_image.jpg')\n",
    "\n",
    "gray_image = cv2.cvtColor(image, cv2.COLOR_BGR2GRAY)\n",
    "\n",
    "# Обнаружение лиц на изображении\n",
    "faces = face_cascade.detectMultiScale(gray_image, scaleFactor=1.1, minNeighbors=5)\n",
    "\n",
    "# Нарисуйте прямоугольники вокруг обнаруженных лиц\n",
    "for (x, y, w, h) in faces:\n",
    "    cv2.rectangle(image, (x, y), (x + w, y + h), (255, 0, 0), 2)\n",
    "\n",
    "# Отображение изображения с распознаванием лиц\n",
    "cv2.imshow('Faces', image)\n",
    "cv2.waitKey(0)\n",
    "cv2.destroyAllWindows()\n"
   ]
  },
  {
   "cell_type": "markdown",
   "id": "49ce8e87",
   "metadata": {},
   "source": [
    "Запустите скрипт face_detection.py:\n",
    "\n",
    "python face_detection.py\n"
   ]
  },
  {
   "cell_type": "markdown",
   "id": "4493103e",
   "metadata": {},
   "source": [
    "### 3.3. Отслеживание объектов\n",
    "Отслеживание объекта - это процесс определения местоположения движущегося объекта и следования за ним с течением времени в последовательности видеокадров. Алгоритм Meanshift является одним из многих алгоритмов отслеживания объектов, доступных в OpenCV. Вот краткий пример того, как реализовать отслеживание объектов с использованием алгоритма Meanshift:\n"
   ]
  },
  {
   "cell_type": "code",
   "execution_count": null,
   "id": "513e50bb",
   "metadata": {},
   "outputs": [],
   "source": [
    "# Откройте видеофайл или веб-камеру для обработки.\n",
    "cap = cv2.VideoCapture('video.mp4')\n",
    "\n",
    "# Прочитайте первый кадр видео\n",
    "_, frame = cap.read()\n",
    "\n",
    "# Определите начальное местоположение объекта для отслеживания\n",
    "x, y, w, h = 100, 100, 50, 50\n",
    "track_window = (x, y, w, h)\n",
    "\n",
    "# Преобразуйте интересующую область в цветовое пространство HSV.\n",
    "roi = frame[y:y + h, x:x + w]\n",
    "hsv_roi = cv2.cvtColor(roi, cv2.COLOR_BGR2HSV)\n",
    "\n",
    "# Создайте маску и вычислите гистограмму рентабельности инвестиций.\n",
    "mask = cv2.inRange(hsv_roi, np.array((0., 60., 32.)), np.array((180., 255., 255.)))\n",
    "roi_hist = cv2.calcHist([hsv_roi], [0], mask, [180], [0, 180])\n",
    "\n",
    "# Нормализовать гистограмму\n",
    "cv2.normalize(roi_hist, roi_hist, 0, 255, cv2.NORM_MINMAX)\n",
    "\n",
    "# Определите критерии завершения алгоритма Meanshift.\n",
    "term_crit = (cv2.TERM_CRITERIA_EPS | cv2.TERM_CRITERIA_COUNT, 10, 1)\n",
    "\n",
    "while True:\n",
    "    _, frame = cap.read()\n",
    "    if frame is None:\n",
    "        break\n",
    "\n",
    "    # Преобразование кадра в цветовое пространство HSV\n",
    "    hsv = cv2.cvtColor(frame, cv2.COLOR_BGR2HSV)\n",
    "\n",
    "    # Вычислите обратную проекцию гистограммы\n",
    "    dst = cv2.calcBackProject([hsv], [0], roi_hist, [0, 180], 1)\n",
    "\n",
    "    # Примените алгоритм Meanshift для отслеживания объекта\n",
    "    _, track_window = cv2.meanShift(dst, track_window, term_crit)\n",
    "\n",
    "    # Нарисуйте отслеживаемый объект на кадре\n",
    "    x, y, w, h = track_window\n",
    "    tracked_object = cv2.rectangle(frame, (x, y), (x + w, y + h), (0, 255, 0), 2)\n",
    "\n",
    "    # Отобразить фрейм\n",
    "    cv2.imshow('Tracked Object', tracked_object)\n",
    "\n",
    "    if cv2.waitKey(1) & 0xFF == ord('q'):\n",
    "        break\n",
    "\n",
    "cap.release()\n",
    "cv2.destroyAllWindows()\n"
   ]
  },
  {
   "cell_type": "markdown",
   "id": "8051abc0",
   "metadata": {},
   "source": [
    "### 3.4. Сопоставление функций\n",
    "Сопоставление объектов - это метод, используемый для поиска соответствий между объектами на двух изображениях, который может быть использован для таких задач, как сшивание изображений или распознавание объектов. Одним из популярных алгоритмов сопоставления объектов является ORB (быстрая ориентация и короткий поворот). Вот пример сопоставления объектов с использованием алгоритма ORB:\n"
   ]
  },
  {
   "cell_type": "code",
   "execution_count": null,
   "id": "b430aa26",
   "metadata": {},
   "outputs": [],
   "source": [
    "# Загрузите два изображения\n",
    "image1 = cv2.imread('image1.jpg')\n",
    "image2 = cv2.imread('image2.jpg')\n",
    "\n",
    "# Инициализируйте детектор ORB и вычислите ключевые точки и дескрипторы.\n",
    "orb = cv2.ORB_create()\n",
    "kp1, des1 = orb.detectAndCompute(image1, None)\n",
    "kp2, des2 = orb.detectAndCompute(image2, None)\n",
    "\n",
    "# Создайте средство сопоставления методом грубой силы и сопоставьте дескрипторы.\n",
    "bf = cv2.BFMatcher(cv2.NORM_HAMMING, crossCheck=True)\n",
    "matches = bf.match(des1, des2)\n",
    "\n",
    "# Сортируйте совпадения по расстоянию (чем меньше расстояние, тем лучше совпадение).\n",
    "\n",
    "matches = sorted(matches, key=lambda x: x.distance)\n",
    "\n",
    "# Нарису 50 лучших совпадений\n",
    "result = cv2.drawMatches(image1, kp1, image2, kp2, matches[:50], None, flags=cv2.DrawMatchesFlags_NOT_DRAW_SINGLE_POINTS)\n",
    "\n",
    "# Отображение совпадающих функций\n",
    "cv2.imshow('Feature Matching', result)\n",
    "cv2.waitKey(0)\n",
    "cv2.destroyAllWindows()\n"
   ]
  },
  {
   "cell_type": "markdown",
   "id": "1c48ce5d",
   "metadata": {},
   "source": [
    "### 3.5. Оптический поток\n",
    "Оптический поток - это движение объектов между последовательными кадрами в видеопоследовательности. Его можно использовать для анализа движения объектов в видеороликах или для стабилизации видео. Алгоритм Лукаса-Канаде является одним из многих алгоритмов оптического потока, доступных в OpenCV. Вот пример того, как реализовать оптический поток с использованием алгоритма Лукаса-Канаде:\n"
   ]
  },
  {
   "cell_type": "code",
   "execution_count": null,
   "id": "42f0542e",
   "metadata": {},
   "outputs": [],
   "source": [
    "cap = cv2.VideoCapture('video.mp4')\n",
    "\n",
    "# Считаем первый кадр и преобразуем его в оттенки серого\n",
    "_, old_frame = cap.read()\n",
    "old_gray = cv2.cvtColor(old_frame, cv2.COLOR_BGR2GRAY)\n",
    "\n",
    "# Инициализируем параметры детектора углов Ши-Томази и обнаруживаем углы в первом кадре\n",
    "feature_params = dict(maxCorners=100, qualityLevel=0.3, minDistance=7, blockSize=7)\n",
    "old_points = cv2.goodFeaturesToTrack(old_gray, mask=None, **feature_params)\n",
    "\n",
    "# Определим параметры метода Лукаса-Канаде\n",
    "lk_params = dict(winSize=(15, 15), maxLevel=2, criteria=(cv2.TERM_CRITERIA_EPS | cv2.TERM_CRITERIA_COUNT, 10, 0.03))\n",
    "\n",
    "# Создаем случайную цветовую маску для рисования оптического потока\n",
    "color = np.random.randint(0, 255, (100, 3))\n",
    "\n",
    "while True:\n",
    "    _, frame = cap.read()\n",
    "    if frame is None:\n",
    "        break\n",
    "\n",
    "    # Преобразуем кадр в оттенки серого\n",
    "    frame_gray = cv2.cvtColor(frame, cv2.COLOR_BGR2GRAY)\n",
    "\n",
    "    # Рассчитайте оптический поток, используя метод Лукаса-Канаде\n",
    "    new_points, status, _ = cv2.calcOpticalFlowPyrLK(old_gray, frame_gray, old_points, None, **lk_params)\n",
    "\n",
    "    # Выберите хорошие моменты (те, которые были успешно отслежены)\n",
    "    good_new = new_points[status == 1]\n",
    "    good_old = old_points[status == 1]\n",
    "\n",
    "    # Нарисуем оптический поток на кадре\n",
    "    for i, (new, old) in enumerate(zip(good_new, good_old)):\n",
    "        a, b = map(int, new.ravel())\n",
    "        c, d = map(int, old.ravel())\n",
    "        frame = cv2.line(frame, (a, b), (c, d), color[i].tolist(), 2)\n",
    "        frame = cv2.circle(frame, (a, b), 5, color[i].tolist(), -1)\n",
    "\n",
    "    # Отображение кадра с оптическим потоком\n",
    "    # Изменяем размер рамки\n",
    "    resized_frame = cv2.resize(frame, (680, 460))\n",
    "    # Отображение кадра с измененным размером\n",
    "    cv2.imshow('Optical Flow', resized_frame)\n",
    "\n",
    "    if cv2.waitKey(1) & 0xFF == ord('q'):\n",
    "        break\n",
    "\n",
    "    # Обновляем предыдущий кадр и точки\n",
    "    old_gray = frame_gray.copy()\n",
    "    old_points = good_new.reshape(-1, 1, 2)\n",
    "\n",
    "cap.release()\n",
    "cv2.destroyAllWindows()\n"
   ]
  },
  {
   "cell_type": "markdown",
   "id": "25b147f3",
   "metadata": {},
   "source": [
    "## Заключение\n",
    "В заключение, я хотел бы выразить свою искреннюю благодарность всем моим читателям за то, что они нашли время для знакомства с увлекательным миром компьютерного зрения. Я надеюсь, что концепции, методы и примеры кода, которыми я поделился в этой статье, дали ценную информацию и вдохновили вас на создание инновационных приложений с использованием Python и OpenCV. Ваша постоянная поддержка и вовлечённость - это то, что побуждает меня создавать качественный контент и ресурсы, которые помогут вам на вашем пути к становлению опытным разработчиком.\n"
   ]
  }
 ],
 "metadata": {
  "kernelspec": {
   "display_name": "Python 3 (ipykernel)",
   "language": "python",
   "name": "python3"
  },
  "language_info": {
   "codemirror_mode": {
    "name": "ipython",
    "version": 3
   },
   "file_extension": ".py",
   "mimetype": "text/x-python",
   "name": "python",
   "nbconvert_exporter": "python",
   "pygments_lexer": "ipython3",
   "version": "3.10.0"
  }
 },
 "nbformat": 4,
 "nbformat_minor": 5
}
